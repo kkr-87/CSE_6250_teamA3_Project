{
 "cells": [
  {
   "cell_type": "code",
   "execution_count": 1,
   "id": "940352dd",
   "metadata": {},
   "outputs": [],
   "source": [
    "# Import required libraries\n",
    "import pandas as pd\n",
    "import numpy as np\n",
    "import re\n",
    "import nltk\n",
    "from nltk.corpus import stopwords\n",
    "from nltk.stem import PorterStemmer\n",
    "from nltk.stem import LancasterStemmer\n",
    "#nltk.download('omw-1.4')\n",
    "from nltk.stem import WordNetLemmatizer\n",
    "from collections import Counter\n",
    "from gensim.models.doc2vec import Doc2Vec, TaggedDocument\n",
    "from gensim.models.nmf import Nmf\n",
    "# from gensim.test.utils import common_texts\n",
    "from gensim.corpora.dictionary import Dictionary\n",
    "from gensim.models import TfidfModel"
   ]
  },
  {
   "cell_type": "code",
   "execution_count": 2,
   "id": "d98d8ff9",
   "metadata": {
    "scrolled": true
   },
   "outputs": [],
   "source": [
    "#read the data into pandas dataframes.\n",
    "admissionsDf = pd.read_csv(\"Data/ADMISSIONS.csv\")\n",
    "diagnosesDf = pd.read_csv(\"Data/DIAGNOSES_ICD.csv\")\n",
    "eventsDf = pd.read_csv(\"Data/NOTEEVENTS.csv\", dtype={\"CHARTTIME\":\"string\", \"STORETIME\":\"string\"})\n",
    "patientsDf = pd.read_csv(\"Data/PATIENTS.csv\")"
   ]
  },
  {
   "cell_type": "markdown",
   "id": "a92773a5",
   "metadata": {},
   "source": [
    "### Data Cleaning\n",
    "- Drop records for patients under 15 years of age - DONE!\n",
    "- Use patient's first admission to ICU only - DONE!\n",
    "- Segregate and deduplicate patient records - DONE!"
   ]
  },
  {
   "cell_type": "code",
   "execution_count": 3,
   "id": "b8ea3c64",
   "metadata": {},
   "outputs": [],
   "source": [
    "#sort admissions dataframe by subject id and date and drop duplicate subject id so that only patient record for first visit is retained\n",
    "admissionsDf.sort_values([\"SUBJECT_ID\", \"ADMITTIME\"], ascending=[True, True], inplace=True)\n",
    "admissionsDf.drop_duplicates(subset=[\"SUBJECT_ID\"], inplace=True)\n",
    "\n",
    "dobDf = patientsDf[[\"SUBJECT_ID\", \"DOB\"]] #create a dataframe of patient id and corresponding date of birth\n",
    "admissionsDf1 = pd.merge(admissionsDf, dobDf, how=\"left\", on=\"SUBJECT_ID\") #merge the date of births to the admissions dataframe and reassign the admissions dataframe\n",
    "admissionsDf1[\"ADMITTIME\"] = pd.to_datetime(admissionsDf1[\"ADMITTIME\"]) #convert admit time to datetime\n",
    "admissionsDf1[\"DOB\"] = pd.to_datetime(admissionsDf1[\"DOB\"]) #convert DOB to datetime \n",
    "\n",
    "admissionsDf1['AGE'] = (admissionsDf1[\"ADMITTIME\"].values - admissionsDf1[\"DOB\"].values) / np.timedelta64(1,\"D\") // 365 #calculate the age of each patient at the time of admission\n"
   ]
  },
  {
   "cell_type": "code",
   "execution_count": 4,
   "id": "a091b60e",
   "metadata": {},
   "outputs": [],
   "source": [
    "#find the patient id for all patients < 15 years old\n",
    "under15 = admissionsDf1.loc[abs(admissionsDf1[\"AGE\"]) < 15.0]\n",
    "under15Patients = list(under15[\"SUBJECT_ID\"]) #7,875 patients under 15 years\n",
    "\n",
    "#note: conflicting information in the paper about age filter (page 1155 indicates >= 15 years while page 1156 indicates\n",
    "# > 15 years). We are using >= 15 years as candidate patients"
   ]
  },
  {
   "cell_type": "code",
   "execution_count": 5,
   "id": "46d18129",
   "metadata": {},
   "outputs": [],
   "source": [
    "#drop under15 patients from admissions, diagnoses, events and patients\n",
    "admissionsFiltered = admissionsDf1[~admissionsDf1.SUBJECT_ID.isin(under15Patients)]\n",
    "diagnosesFiltered = diagnosesDf[~diagnosesDf.SUBJECT_ID.isin(under15Patients)]\n",
    "eventsFiltered = eventsDf[~eventsDf.SUBJECT_ID.isin(under15Patients)]\n",
    "patientsFiltered = patientsDf[~patientsDf.SUBJECT_ID.isin(under15Patients)] #38,645 adult (>=15 years) patients\n"
   ]
  },
  {
   "cell_type": "code",
   "execution_count": 6,
   "id": "7c5cf7a5",
   "metadata": {},
   "outputs": [],
   "source": [
    "eventsNoError = eventsFiltered.loc[eventsFiltered.ISERROR != 1] #drop events with known errors. i.e. ISERROR = 1\n",
    "eventsNoDuplicate = eventsNoError.drop_duplicates() #drop duplicate events from the filtered dataframe\n",
    "patientsNoErrors = sorted(list(eventsFiltered.SUBJECT_ID.unique())) #create list of patients from filtered events which have no errors\n"
   ]
  },
  {
   "cell_type": "code",
   "execution_count": 7,
   "id": "823d6f77",
   "metadata": {},
   "outputs": [],
   "source": [
    "#select patient id and hospital admission code from admissions dataframe and use to merge left with diagnoses and events\n",
    "patientHadmCode = admissionsFiltered[[\"SUBJECT_ID\", \"HADM_ID\"]]\n",
    "diagnosesFiltered1 = pd.merge(patientHadmCode, diagnosesFiltered, how=\"left\", on=[\"SUBJECT_ID\", \"HADM_ID\"])\n",
    "eventsFiltered1 = pd.merge(patientHadmCode, eventsNoDuplicate, how=\"left\", on=[\"SUBJECT_ID\", \"HADM_ID\"])\n",
    "eventsFiltered1[[\"TEXT\"]] = eventsFiltered1[[\"TEXT\"]].fillna(\"\")"
   ]
  },
  {
   "cell_type": "code",
   "execution_count": 8,
   "id": "073720fa",
   "metadata": {},
   "outputs": [],
   "source": [
    "#prepare the final dataframes for further analysis\n",
    "admissions = admissionsFiltered[admissionsFiltered.SUBJECT_ID.isin(patientsNoErrors)] #final admissions dataframe to be used for further analysis\n",
    "diagnoses = diagnosesFiltered1[diagnosesFiltered1.SUBJECT_ID.isin(patientsNoErrors)].sort_values(by=\"SUBJECT_ID\") #final diagnoses dataframe to be used for further analysis\n",
    "patients = patientsFiltered[patientsFiltered.SUBJECT_ID.isin(patientsNoErrors)] #final patients dataframe to be used for further analysis\n",
    "events = eventsFiltered1[eventsFiltered1.SUBJECT_ID.isin(patientsNoErrors)].sort_values(by=[\"SUBJECT_ID\", \"CHARTDATE\"]) #final events dataframe to be used for further analysis\n"
   ]
  },
  {
   "cell_type": "markdown",
   "id": "458e72f0",
   "metadata": {},
   "source": [
    "### Data Aggregation (using FarSight approach)\n",
    "- Concatenate the chronological notes for each patient - DONE!\n",
    "- Create a set of all ICD-9 codes for each patient - DONE!"
   ]
  },
  {
   "cell_type": "code",
   "execution_count": 9,
   "id": "85353dd0",
   "metadata": {},
   "outputs": [],
   "source": [
    "#Concatenates the chronological notes for each patient\n",
    "events_grouped  = events.groupby(\"HADM_ID\")[\"TEXT\"].apply(lambda x: \" \".join(x)).reset_index()\n",
    "events_grouped[\"HADM_ID\"] = events_grouped[\"HADM_ID\"].astype(int)"
   ]
  },
  {
   "cell_type": "code",
   "execution_count": 10,
   "id": "96056d38",
   "metadata": {},
   "outputs": [],
   "source": [
    "#Takes the first 3 digits of each icd9 code for easier categorising\n",
    "diagnoses_categorised = diagnoses.copy()\n",
    "diagnoses_categorised[\"ICD9_CODE\"] = diagnoses_categorised[\"ICD9_CODE\"].astype(str).apply(lambda x: x[0:3])\n",
    "\n",
    "#df.isna or df.dropna couldn't find nan so drop by string location\n",
    "diagnoses_categorised = diagnoses_categorised.loc[diagnoses_categorised[\"ICD9_CODE\"] != \"nan\"]\n",
    "\n",
    "#Converts V and E codes to 1000 for easier binning\n",
    "diagnoses_categorised[\"ICD9_CODE\"] = diagnoses_categorised[\"ICD9_CODE\"].apply(lambda x: \"1000\" if (x[0] == \"V\" or x[0] == \"E\") else x).astype(int)\n",
    "\n",
    "#Categorises the icd9 codes using bins\n",
    "icd9_bins = [0,139,239,279,289,319,389,459,519,579,629,677,709,739,759,789,796,799,999,1000]\n",
    "diagnoses_categorised[\"ICD9_GROUPS\"] = pd.cut(diagnoses_categorised[\"ICD9_CODE\"], bins = icd9_bins, right = True, labels = False)\n",
    "\n",
    "#Groups the diagnoses codes into lists\n",
    "diagnoses_grouped = diagnoses_categorised.groupby(\"HADM_ID\")[\"ICD9_GROUPS\"].apply(list).reset_index()\n",
    "\n"
   ]
  },
  {
   "cell_type": "markdown",
   "id": "f4202b1d",
   "metadata": {},
   "source": [
    "#### ICD-9 Category key\n",
    "Key: Code Category\n",
    "- 0: 001-139\n",
    "- 1: 140-239\n",
    "- 2: 240-279\n",
    "- 3: 280-289\n",
    "- 4: 290-319\n",
    "- 5: 320-389\n",
    "- 6: 390-459\n",
    "- 7: 460-519\n",
    "- 8: 520-579\n",
    "- 9: 580-629\n",
    "- 10: 630-677\n",
    "- 11: 680-709\n",
    "- 12: 710-739\n",
    "- 13: 740-759\n",
    "- 14: 760-789\n",
    "- 15: 790-796\n",
    "- 16: 797-799\n",
    "- 17: 800-999\n",
    "- 18: V & E codes\n"
   ]
  },
  {
   "cell_type": "code",
   "execution_count": 11,
   "id": "df8c0581",
   "metadata": {},
   "outputs": [
    {
     "data": {
      "text/html": [
       "<div>\n",
       "<style scoped>\n",
       "    .dataframe tbody tr th:only-of-type {\n",
       "        vertical-align: middle;\n",
       "    }\n",
       "\n",
       "    .dataframe tbody tr th {\n",
       "        vertical-align: top;\n",
       "    }\n",
       "\n",
       "    .dataframe thead th {\n",
       "        text-align: right;\n",
       "    }\n",
       "</style>\n",
       "<table border=\"1\" class=\"dataframe\">\n",
       "  <thead>\n",
       "    <tr style=\"text-align: right;\">\n",
       "      <th></th>\n",
       "      <th>HADM_ID</th>\n",
       "      <th>TEXT</th>\n",
       "      <th>ICD9_GROUPS</th>\n",
       "    </tr>\n",
       "  </thead>\n",
       "  <tbody>\n",
       "    <tr>\n",
       "      <th>0</th>\n",
       "      <td>100001</td>\n",
       "      <td>[**2117-9-11**] 11:12 AM\\n CHEST (PA &amp; LAT)   ...</td>\n",
       "      <td>[6, 18, 11, 2, 5, 2, 9, 2, 8, 2, 18, 8, 9, 5, ...</td>\n",
       "    </tr>\n",
       "    <tr>\n",
       "      <th>1</th>\n",
       "      <td>100003</td>\n",
       "      <td>Sinus rhythm\\nProlonged QT interval is nonspec...</td>\n",
       "      <td>[14, 8, 6, 8, 0, 8, 3, 8, 6]</td>\n",
       "    </tr>\n",
       "    <tr>\n",
       "      <th>2</th>\n",
       "      <td>100006</td>\n",
       "      <td>Sinus tachycardia\\nLeft axis deviation - anter...</td>\n",
       "      <td>[4, 18, 18, 14, 7, 1, 7, 7, 2]</td>\n",
       "    </tr>\n",
       "    <tr>\n",
       "      <th>3</th>\n",
       "      <td>100007</td>\n",
       "      <td>Sinus rhythm\\nAtrial premature complex\\nConsid...</td>\n",
       "      <td>[8, 8, 17, 7, 6]</td>\n",
       "    </tr>\n",
       "    <tr>\n",
       "      <th>4</th>\n",
       "      <td>100009</td>\n",
       "      <td>Sinus bradycardia.  Left atrial abnormality.  ...</td>\n",
       "      <td>[2, 6, 6, 3, 18, 18, 18, 6, 18, 18, 6, 6, 18, ...</td>\n",
       "    </tr>\n",
       "  </tbody>\n",
       "</table>\n",
       "</div>"
      ],
      "text/plain": [
       "   HADM_ID                                               TEXT  \\\n",
       "0   100001  [**2117-9-11**] 11:12 AM\\n CHEST (PA & LAT)   ...   \n",
       "1   100003  Sinus rhythm\\nProlonged QT interval is nonspec...   \n",
       "2   100006  Sinus tachycardia\\nLeft axis deviation - anter...   \n",
       "3   100007  Sinus rhythm\\nAtrial premature complex\\nConsid...   \n",
       "4   100009  Sinus bradycardia.  Left atrial abnormality.  ...   \n",
       "\n",
       "                                         ICD9_GROUPS  \n",
       "0  [6, 18, 11, 2, 5, 2, 9, 2, 8, 2, 18, 8, 9, 5, ...  \n",
       "1                       [14, 8, 6, 8, 0, 8, 3, 8, 6]  \n",
       "2                     [4, 18, 18, 14, 7, 1, 7, 7, 2]  \n",
       "3                                   [8, 8, 17, 7, 6]  \n",
       "4  [2, 6, 6, 3, 18, 18, 18, 6, 18, 18, 6, 6, 18, ...  "
      ]
     },
     "execution_count": 11,
     "metadata": {},
     "output_type": "execute_result"
    }
   ],
   "source": [
    "#Merge the nursing notes and the ICD9 groups together\n",
    "aggregated_df = events_grouped.merge(diagnoses_grouped,on = \"HADM_ID\")\n",
    "\n",
    "#create a list of sets where each set contains all icd9 codes for a single patient\n",
    "icd9_grouped = list(aggregated_df[\"ICD9_GROUPS\"]) #list of ICD9 codes\n",
    "\n",
    "#create a list of strings where each string is the concatenated nursing texts for a single patient. \n",
    "notes_list_all = list(aggregated_df[\"TEXT\"])\n",
    "aggregated_df.head()"
   ]
  },
  {
   "cell_type": "markdown",
   "id": "63ecc86e",
   "metadata": {},
   "source": [
    "### Data Preprocessing\n",
    "- Remove multiple spaces and special characters - DONE!\n",
    "- Tokenization (using NLTK) - DONE!\n",
    "- Stopword removal from generated tokens (using the NLTK English stopword corpus) - DONE!\n",
    "- Remove punctuation marks except hyphens and slashes - DONE!\n",
    "- Remove references to images - DONE!\n",
    "- Perform character case folding - DONE!\n",
    "- Perform medical concept normalization through disambiguation of abbreviations (into long form) using CARD - FOLLOW UP!\n",
    "- Perform suffix stripping through stemming - DONE!\n",
    "- Convert stripped tokens into their respective base forms by lemmatization - DONE!\n",
    "- Discard tokens appearing in less than 10 nursing notes - DONE!"
   ]
  },
  {
   "cell_type": "code",
   "execution_count": 12,
   "id": "4759a2fe",
   "metadata": {},
   "outputs": [],
   "source": [
    "# !!! use a subset of the data from faster testing. comment out this line for final submission\n",
    "notes_list = notes_list_all[:10]"
   ]
  },
  {
   "cell_type": "code",
   "execution_count": 13,
   "id": "b2110700",
   "metadata": {},
   "outputs": [],
   "source": [
    "#define a function to remove multiple spaces, special characters and newlines\n",
    "def clean_notes(note):\n",
    "    a = re.sub(\"[^a-zA-Z0-9-/]+\", \" \", str(note)) #remove special characters\n",
    "    b = re.sub(\"\\n\", \"\", str(a)) #remove newlines\n",
    "    c = re.sub(\" +\", \" \", str(b)) #remove extra spaces\n",
    "    return c\n",
    "\n",
    "#map the clean notes funciton to the notes_list\n",
    "notes_list = list(map(clean_notes, notes_list))"
   ]
  },
  {
   "cell_type": "code",
   "execution_count": 14,
   "id": "a6d2d0af",
   "metadata": {},
   "outputs": [],
   "source": [
    "#tokenize the nursing notes text\n",
    "tokens = [] #empty tokens list\n",
    "stops = set(stopwords.words('english')) #English stopwords corpus\n",
    "pStem = PorterStemmer() #instance of stemmer for suffix stripping. Less aggressive stemmer\n",
    "lStem = LancasterStemmer() #instance of stemmer for suffix stripping. Use either this or pStem\n",
    "wLemma = WordNetLemmatizer() #instance of lemmatizer\n",
    "img1=\".jpeg\"; img2=\".jpg\"; img3=\".png\"; img4=\".tiff\"; img5=\".bmp\" #image references for lookup\n",
    "\n",
    "for idx,txt in enumerate(notes_list):\n",
    "    a = nltk.word_tokenize(txt) #tokenize each nursing note\n",
    "    tokens.append([wLemma.lemmatize(pStem.stem(word.casefold()), pos=\"v\") for word in a if not word in stops \\\n",
    "                   if not img1 in word if not img2 in word if not img3 in word if not img4 in word if not img5 in word])\n",
    "    "
   ]
  },
  {
   "cell_type": "code",
   "execution_count": 15,
   "id": "c11d4de7",
   "metadata": {},
   "outputs": [],
   "source": [
    "#eliminate tokens appearing in less than 10 nursing texts\n",
    "token_counts = Counter([token for l in tokens for token in l])\n",
    "under_10_tokens = [t for (t,c) in token_counts.items() if c < 10]\n",
    "\n",
    "for idx, note in enumerate(tokens):\n",
    "    tokens[idx] = [token for token in note if not token in under_10_tokens]"
   ]
  },
  {
   "cell_type": "markdown",
   "id": "c0c103de",
   "metadata": {},
   "source": [
    "### NOTE!!!\n",
    "At this point we have:\n",
    "- patientsNoErrors: which is a list of patients ids (age >= 15) arranged in ascending order\n",
    "- icd9_grouped: which is a list of sets of icd9 codes where each set contains the icd9 codes for an individual patient. Each set of icd9 codes is for the patient at the corresponding index in patientsNoErrors. \n",
    "- tokens: which is a list of of lists where each list contains the normalized tokens for an individual patient where these tokens are generated using the concatenated nursing notes for said patient. Each list of tokens is for the patient at the corresponding index in patientsNoErrors."
   ]
  },
  {
   "cell_type": "markdown",
   "id": "9e71656a",
   "metadata": {},
   "source": [
    "### Clinical feature modeling - VECTOR SPACE MODELING OF CLINICAL NOTES\n",
    "- Obtain the Doc2Vec style features from the normalized nursing note tokens. Utilize the implementation in the Python Gensim package, with an embedding size of 500 (trained for 25 epochs), determined empirically using grid-search as per the original Farsight paper. - DONE!"
   ]
  },
  {
   "cell_type": "code",
   "execution_count": 16,
   "id": "5d58f63e",
   "metadata": {},
   "outputs": [],
   "source": [
    "#create list of TaggedDocument and train Doc2Vec model \n",
    "documents = [TaggedDocument(doc, [i]) for i, doc in enumerate(tokens)] #create list of TaggedDocument\n",
    "d2vModel = Doc2Vec(vector_size=500, epochs=25, dm=1) #create model\n",
    "d2vModel.build_vocab(documents) #build the vocab\n",
    "d2vModel.train(documents, total_examples=d2vModel.corpus_count, epochs=d2vModel.epochs) #train the model"
   ]
  },
  {
   "cell_type": "code",
   "execution_count": 17,
   "id": "23cb3218",
   "metadata": {
    "scrolled": true
   },
   "outputs": [],
   "source": [
    "#map the tokens to Doc2Vec style features using the trained model\n",
    "d2v_tokens = [d2vModel.infer_vector(i) for i in tokens]"
   ]
  },
  {
   "cell_type": "markdown",
   "id": "08503f18",
   "metadata": {},
   "source": [
    "### Clinical feature modeling - TOPIC MODELING OF CLINICAL NOTES\n",
    "- Build NMF matrices on BoW (Bag of Words) and TW (Term Weighting) matrices. Model the BoW and TW matrices using NMF both with and without semantic coherence scoring considered (set to 100 topics with SC considered and 150 topics without SC considered). Implement NMF models in the Python Gensim package. "
   ]
  },
  {
   "cell_type": "code",
   "execution_count": 18,
   "id": "61bcd4f0",
   "metadata": {},
   "outputs": [],
   "source": [
    "#create a corpus (BoW) from the list of tokens\n",
    "token_dictionary = Dictionary(tokens)\n",
    "token_corpus = [token_dictionary.doc2bow(text) for text in tokens]"
   ]
  },
  {
   "cell_type": "code",
   "execution_count": 19,
   "id": "3b1bca4a",
   "metadata": {},
   "outputs": [],
   "source": [
    "#NMF Model #1\n",
    "#train the model on the BoW corpus with SC consideration (num_topics = 100)\n",
    "nmfBoWSCModel = Nmf(token_corpus, num_topics=100)\n",
    "\n",
    "#infer the vector (topic probability distribution) for BoW corpus with SC consideration (num_topics = 100)\n",
    "nmfBoWSC_tokens = nmfBoWSCModel[token_corpus]"
   ]
  },
  {
   "cell_type": "code",
   "execution_count": 20,
   "id": "6a4eab73",
   "metadata": {},
   "outputs": [],
   "source": [
    "#NMF Model #2\n",
    "#train the model on the BoW corpus without SC consideration (num_topics = 150)\n",
    "nmfBoWwoSCModel = Nmf(token_corpus, num_topics=150)\n",
    "\n",
    "#infer the vector (topic probability distribution) for BoW corpus with SC consideration (num_topics = 100)\n",
    "nmfBoWwoSC_tokens = nmfBoWwoSCModel[token_corpus]"
   ]
  },
  {
   "cell_type": "code",
   "execution_count": 21,
   "id": "8a178ef4",
   "metadata": {},
   "outputs": [],
   "source": [
    "#Apply TW (Term Weighting) transformation to the BoW corpus\n",
    "tw_transformer = TfidfModel(token_corpus)\n",
    "tw_corpus = tw_transformer[token_corpus]"
   ]
  },
  {
   "cell_type": "code",
   "execution_count": 22,
   "id": "2474821b",
   "metadata": {},
   "outputs": [],
   "source": [
    "#NMF Model #3\n",
    "#train the model on the TW corpus with SC consideration (num_topics = 100)\n",
    "nmfTWSCModel = Nmf(tw_corpus, num_topics=100)\n",
    "\n",
    "#infer the vector (topic probability distribution) for TW corpus with SC consideration (num_topics = 100)\n",
    "nmfTWSC_tokens = nmfTWSCModel[tw_corpus]"
   ]
  },
  {
   "cell_type": "code",
   "execution_count": 23,
   "id": "290c8566",
   "metadata": {},
   "outputs": [],
   "source": [
    "#NMF Model #4\n",
    "#train the model on the TW corpus without SC consideration (num_topics = 150)\n",
    "nmfTWwoSCModel = Nmf(tw_corpus, num_topics=150)\n",
    "\n",
    "#infer the vector (topic probability distribution) for BoW corpus without SC consideration (num_topics = 150)\n",
    "nmfTWwoSC_tokens = nmfTWwoSCModel[tw_corpus]"
   ]
  }
 ],
 "metadata": {
  "kernelspec": {
   "display_name": "Python 3 (ipykernel)",
   "language": "python",
   "name": "python3"
  },
  "language_info": {
   "codemirror_mode": {
    "name": "ipython",
    "version": 3
   },
   "file_extension": ".py",
   "mimetype": "text/x-python",
   "name": "python",
   "nbconvert_exporter": "python",
   "pygments_lexer": "ipython3",
   "version": "3.9.9"
  }
 },
 "nbformat": 4,
 "nbformat_minor": 5
}
