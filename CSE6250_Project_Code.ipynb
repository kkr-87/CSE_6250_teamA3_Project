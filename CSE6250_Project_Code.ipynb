{
 "cells": [
  {
   "cell_type": "code",
   "execution_count": 1,
   "id": "940352dd",
   "metadata": {},
   "outputs": [],
   "source": [
    "# Import required libraries\n",
    "import pandas as pd\n",
    "import numpy as np\n",
    "from datetime import datetime, timedelta"
   ]
  },
  {
   "cell_type": "code",
   "execution_count": 2,
   "id": "d98d8ff9",
   "metadata": {},
   "outputs": [
    {
     "name": "stderr",
     "output_type": "stream",
     "text": [
      "/Users/kenkrichards/opt/anaconda3/lib/python3.9/site-packages/IPython/core/interactiveshell.py:3444: DtypeWarning: Columns (4,5) have mixed types.Specify dtype option on import or set low_memory=False.\n",
      "  exec(code_obj, self.user_global_ns, self.user_ns)\n"
     ]
    }
   ],
   "source": [
    "#read the data into pandas dataframes.\n",
    "admissionsDf = pd.read_csv(\"Data/ADMISSIONS.csv\")\n",
    "diagnosesDf = pd.read_csv(\"Data/DIAGNOSES_ICD.csv\")\n",
    "eventsDf = pd.read_csv(\"Data/NOTEEVENTS.csv\")\n",
    "patientsDf = pd.read_csv(\"Data/PATIENTS.csv\")"
   ]
  },
  {
   "cell_type": "code",
   "execution_count": 39,
   "id": "b8ea3c64",
   "metadata": {},
   "outputs": [],
   "source": [
    "dobDf = patientsDf[[\"SUBJECT_ID\", \"DOB\"]] #create a dataframe of patient id and corresponding date of birth\n",
    "admissionsDf1 = pd.merge(admissionsDf, dobDf, how=\"inner\", on=\"SUBJECT_ID\") #merge the date of births to the admissions dataframe and reassign the admissions dataframe\n",
    "admissionsDf1[\"ADMITTIME\"] = pd.to_datetime(admissionsDf1[\"ADMITTIME\"]) #\n",
    "admissionsDf1[\"DOB\"] = pd.to_datetime(admissionsDf1[\"DOB\"]) #\n",
    "\n",
    "admissionsDf1['AGE'] = (admissionsDf1[\"ADMITTIME\"].values - admissionsDf1[\"DOB\"].values) / np.timedelta64(1,\"D\") // 365 #calculate the age of each patient at the time of admission\n"
   ]
  },
  {
   "cell_type": "code",
   "execution_count": 44,
   "id": "aafab9fc",
   "metadata": {
    "scrolled": true
   },
   "outputs": [],
   "source": [
    "#find the patient id for all patients <= 15 years old...note to self: there are some -ve age (double check)\n",
    "under15 = admissionsDf1.loc[admissionsDf1[\"AGE\"] <= 15.0]\n",
    "under15Patients = list(under15[\"SUBJECT_ID\"])"
   ]
  },
  {
   "cell_type": "code",
   "execution_count": 47,
   "id": "46d18129",
   "metadata": {},
   "outputs": [],
   "source": [
    "#drop under15 patients from admissions, diagnoses, events and patients\n",
    "admissionsFiltered = admissionsDf1[~admissionsDf1.SUBJECT_ID.isin(under15Patients)]\n",
    "diagnosesFiltered = diagnosesDf[~diagnosesDf.SUBJECT_ID.isin(under15Patients)]\n",
    "eventsFiltered = eventsDf[~eventsDf.SUBJECT_ID.isin(under15Patients)]\n",
    "patientsFiltered = patientsDf[~patientsDf.SUBJECT_ID.isin(under15Patients)]"
   ]
  },
  {
   "cell_type": "code",
   "execution_count": null,
   "id": "a432ffa0",
   "metadata": {},
   "outputs": [],
   "source": []
  }
 ],
 "metadata": {
  "kernelspec": {
   "display_name": "Python 3 (ipykernel)",
   "language": "python",
   "name": "python3"
  },
  "language_info": {
   "codemirror_mode": {
    "name": "ipython",
    "version": 3
   },
   "file_extension": ".py",
   "mimetype": "text/x-python",
   "name": "python",
   "nbconvert_exporter": "python",
   "pygments_lexer": "ipython3",
   "version": "3.9.7"
  }
 },
 "nbformat": 4,
 "nbformat_minor": 5
}
