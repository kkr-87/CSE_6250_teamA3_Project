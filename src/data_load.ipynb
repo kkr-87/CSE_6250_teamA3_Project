{
 "cells": [
  {
   "cell_type": "code",
   "execution_count": 1,
   "metadata": {},
   "outputs": [],
   "source": [
    "import pandas as pd"
   ]
  },
  {
   "cell_type": "code",
   "execution_count": 2,
   "metadata": {},
   "outputs": [],
   "source": [
    "#Load raw data into dfs \n",
    "admissions_df = pd.read_csv(\"../Data/ADMISSIONS.csv\")\n",
    "diag_df =  pd.read_csv(\"../Data/DIAGNOSES_ICD.csv\")\n",
    "events_df = pd.read_csv(\"../Data/NOTEEVENTS.csv\",dtype={\"CHARTTIME\":\"string\", \"STORETIME\":\"string\"})\n",
    "patients_df = pd.read_csv(\"../Data/PATIENTS.csv\")"
   ]
  },
  {
   "cell_type": "code",
   "execution_count": 5,
   "metadata": {},
   "outputs": [
    {
     "data": {
      "text/html": [
       "<div>\n",
       "<style scoped>\n",
       "    .dataframe tbody tr th:only-of-type {\n",
       "        vertical-align: middle;\n",
       "    }\n",
       "\n",
       "    .dataframe tbody tr th {\n",
       "        vertical-align: top;\n",
       "    }\n",
       "\n",
       "    .dataframe thead th {\n",
       "        text-align: right;\n",
       "    }\n",
       "</style>\n",
       "<table border=\"1\" class=\"dataframe\">\n",
       "  <thead>\n",
       "    <tr style=\"text-align: right;\">\n",
       "      <th></th>\n",
       "      <th>SUBJECT_ID</th>\n",
       "      <th>HADM_ID</th>\n",
       "    </tr>\n",
       "  </thead>\n",
       "  <tbody>\n",
       "    <tr>\n",
       "      <th>1</th>\n",
       "      <td>3</td>\n",
       "      <td>145834</td>\n",
       "    </tr>\n",
       "    <tr>\n",
       "      <th>2</th>\n",
       "      <td>4</td>\n",
       "      <td>185777</td>\n",
       "    </tr>\n",
       "    <tr>\n",
       "      <th>4</th>\n",
       "      <td>6</td>\n",
       "      <td>107064</td>\n",
       "    </tr>\n",
       "    <tr>\n",
       "      <th>7</th>\n",
       "      <td>9</td>\n",
       "      <td>150750</td>\n",
       "    </tr>\n",
       "    <tr>\n",
       "      <th>9</th>\n",
       "      <td>11</td>\n",
       "      <td>194540</td>\n",
       "    </tr>\n",
       "  </tbody>\n",
       "</table>\n",
       "</div>"
      ],
      "text/plain": [
       "   SUBJECT_ID  HADM_ID\n",
       "1           3   145834\n",
       "2           4   185777\n",
       "4           6   107064\n",
       "7           9   150750\n",
       "9          11   194540"
      ]
     },
     "execution_count": 5,
     "metadata": {},
     "output_type": "execute_result"
    }
   ],
   "source": [
    "\n",
    "#This cell gets the first ICU HADM ID of the first ICU visit for each patients and also removes patients under 15\n",
    "#Most of this was taken from the previous notebook\n",
    "admissions_sorted_df = admissions_df.sort_values(\"ADMITTIME\").reset_index(drop = True).groupby(\"SUBJECT_ID\").first().reset_index()\n",
    "\n",
    "age_df = admissions_sorted_df.merge(patients_df, on = \"SUBJECT_ID\")\n",
    "age_df[\"ADMITTIME\"] = pd.to_datetime(age_df[\"ADMITTIME\"], dayfirst=True, errors='coerce')\n",
    "age_df[\"DOB\"] = pd.to_datetime(age_df[\"DOB\"], dayfirst=True, errors='coerce')\n",
    "age_df[\"AGE\"] = (age_df[\"ADMITTIME\"].values - age_df[\"DOB\"].values)\n",
    "age_df[\"AGE\"] = age_df[\"AGE\"].dt.days/365\n",
    "age_df = age_df[age_df[\"AGE\"] >= 15]\n",
    "age_df = age_df[[\"SUBJECT_ID\",\"HADM_ID\"]]\n",
    "age_df.head()"
   ]
  },
  {
   "cell_type": "code",
   "execution_count": 6,
   "metadata": {},
   "outputs": [
    {
     "data": {
      "text/html": [
       "<div>\n",
       "<style scoped>\n",
       "    .dataframe tbody tr th:only-of-type {\n",
       "        vertical-align: middle;\n",
       "    }\n",
       "\n",
       "    .dataframe tbody tr th {\n",
       "        vertical-align: top;\n",
       "    }\n",
       "\n",
       "    .dataframe thead th {\n",
       "        text-align: right;\n",
       "    }\n",
       "</style>\n",
       "<table border=\"1\" class=\"dataframe\">\n",
       "  <thead>\n",
       "    <tr style=\"text-align: right;\">\n",
       "      <th></th>\n",
       "      <th>HADM_ID</th>\n",
       "      <th>TEXT</th>\n",
       "    </tr>\n",
       "  </thead>\n",
       "  <tbody>\n",
       "    <tr>\n",
       "      <th>0</th>\n",
       "      <td>100001</td>\n",
       "      <td>Admission Date:  [**2117-9-11**]              ...</td>\n",
       "    </tr>\n",
       "    <tr>\n",
       "      <th>1</th>\n",
       "      <td>100003</td>\n",
       "      <td>Admission Date:  [**2150-4-17**]              ...</td>\n",
       "    </tr>\n",
       "    <tr>\n",
       "      <th>2</th>\n",
       "      <td>100006</td>\n",
       "      <td>Admission Date:  [**2108-4-6**]       Discharg...</td>\n",
       "    </tr>\n",
       "    <tr>\n",
       "      <th>3</th>\n",
       "      <td>100007</td>\n",
       "      <td>Admission Date:  [**2145-3-31**]              ...</td>\n",
       "    </tr>\n",
       "    <tr>\n",
       "      <th>4</th>\n",
       "      <td>100009</td>\n",
       "      <td>Admission Date:  [**2162-5-16**]              ...</td>\n",
       "    </tr>\n",
       "  </tbody>\n",
       "</table>\n",
       "</div>"
      ],
      "text/plain": [
       "   HADM_ID                                               TEXT\n",
       "0   100001  Admission Date:  [**2117-9-11**]              ...\n",
       "1   100003  Admission Date:  [**2150-4-17**]              ...\n",
       "2   100006  Admission Date:  [**2108-4-6**]       Discharg...\n",
       "3   100007  Admission Date:  [**2145-3-31**]              ...\n",
       "4   100009  Admission Date:  [**2162-5-16**]              ..."
      ]
     },
     "execution_count": 6,
     "metadata": {},
     "output_type": "execute_result"
    }
   ],
   "source": [
    "#This cell removes missing values from the events data frame \n",
    "#and then concatenates the text into one row for each HADM ID\n",
    "events_no_na = events_df.dropna(subset = [\"HADM_ID\"])\n",
    "events_no_na = events_no_na.loc[events_no_na[\"ISERROR\"] != 1]\n",
    "\n",
    "events_grouped  = events_no_na.groupby(\"HADM_ID\")[\"TEXT\"].apply(lambda x: \" \".join(x)).reset_index()\n",
    "events_grouped[\"HADM_ID\"] = events_grouped[\"HADM_ID\"].astype(int)\n",
    "\n",
    "events_grouped.head()"
   ]
  },
  {
   "cell_type": "code",
   "execution_count": 7,
   "metadata": {},
   "outputs": [
    {
     "data": {
      "text/html": [
       "<div>\n",
       "<style scoped>\n",
       "    .dataframe tbody tr th:only-of-type {\n",
       "        vertical-align: middle;\n",
       "    }\n",
       "\n",
       "    .dataframe tbody tr th {\n",
       "        vertical-align: top;\n",
       "    }\n",
       "\n",
       "    .dataframe thead th {\n",
       "        text-align: right;\n",
       "    }\n",
       "</style>\n",
       "<table border=\"1\" class=\"dataframe\">\n",
       "  <thead>\n",
       "    <tr style=\"text-align: right;\">\n",
       "      <th></th>\n",
       "      <th>ICD9_CODE</th>\n",
       "      <th>TEXT</th>\n",
       "    </tr>\n",
       "  </thead>\n",
       "  <tbody>\n",
       "    <tr>\n",
       "      <th>0</th>\n",
       "      <td>0389</td>\n",
       "      <td>Admission Date:  [**2101-10-20**]     Discharg...</td>\n",
       "    </tr>\n",
       "    <tr>\n",
       "      <th>1</th>\n",
       "      <td>78559</td>\n",
       "      <td>Admission Date:  [**2101-10-20**]     Discharg...</td>\n",
       "    </tr>\n",
       "    <tr>\n",
       "      <th>2</th>\n",
       "      <td>5849</td>\n",
       "      <td>Admission Date:  [**2101-10-20**]     Discharg...</td>\n",
       "    </tr>\n",
       "    <tr>\n",
       "      <th>3</th>\n",
       "      <td>4275</td>\n",
       "      <td>Admission Date:  [**2101-10-20**]     Discharg...</td>\n",
       "    </tr>\n",
       "    <tr>\n",
       "      <th>4</th>\n",
       "      <td>41071</td>\n",
       "      <td>Admission Date:  [**2101-10-20**]     Discharg...</td>\n",
       "    </tr>\n",
       "  </tbody>\n",
       "</table>\n",
       "</div>"
      ],
      "text/plain": [
       "  ICD9_CODE                                               TEXT\n",
       "0      0389  Admission Date:  [**2101-10-20**]     Discharg...\n",
       "1     78559  Admission Date:  [**2101-10-20**]     Discharg...\n",
       "2      5849  Admission Date:  [**2101-10-20**]     Discharg...\n",
       "3      4275  Admission Date:  [**2101-10-20**]     Discharg...\n",
       "4     41071  Admission Date:  [**2101-10-20**]     Discharg..."
      ]
     },
     "execution_count": 7,
     "metadata": {},
     "output_type": "execute_result"
    }
   ],
   "source": [
    "#This cell combines the diagnostic codes and concatenated text from the previous cell\n",
    "#The output is one row for each individual ICD9 code\n",
    "\n",
    "#Get the ICD9 codes of the first icu admission for each patient\n",
    "icd9_df = age_df.merge(diag_df,on = \"HADM_ID\")\n",
    "\n",
    "\n",
    "icd9_df = icd9_df.merge(events_grouped,on = \"HADM_ID\")[[\"ICD9_CODE\",\"TEXT\"]]\n",
    "\n",
    "icd9_df.head()\n"
   ]
  },
  {
   "cell_type": "code",
   "execution_count": 11,
   "metadata": {},
   "outputs": [
    {
     "name": "stdout",
     "output_type": "stream",
     "text": [
      "(36370, 2)\n"
     ]
    }
   ],
   "source": [
    "#This cell first categorises the ICD9 codes as seen in figure 8 of the Farsight paper\n",
    "#And then groups the ICD9 categories for each HADM ID into a list and then drops duplicate rows\n",
    "#The final output is a dataframe with columns: TEXT, ICD9_GROUPS with each row corresponding to one HADM ID (HADM ID column removed in final dataframe)\n",
    "\n",
    "#Takes the first 3 digits of each icd9 code for easier categorising\n",
    "final_df = icd9_df.copy()\n",
    "final_df[\"ICD9_CODE\"] = final_df[\"ICD9_CODE\"].astype(str).apply(lambda x: x[0:3])\n",
    "\n",
    "#df.isna or df.dropna couldn't find nan\n",
    "final_df = final_df.loc[final_df[\"ICD9_CODE\"] != \"nan\"]\n",
    "\n",
    "#Converts V and E to 1000 for easier categorising\n",
    "final_df[\"ICD9_CODE\"] = final_df[\"ICD9_CODE\"].apply(lambda x: \"1000\" if (x[0] == \"V\" or x[0] == \"E\") else x).astype(int)\n",
    "\n",
    "#Categorises the icd9 codes using bins\n",
    "icd9_bins = [0,139,239,279,289,319,389,459,519,579,629,677,709,739,759,789,796,799,999,1000]\n",
    "final_df[\"ICD9_GROUPS\"] = pd.cut(final_df[\"ICD9_CODE\"], bins = icd9_bins, right = True, labels = False)\n",
    "\n",
    "\n",
    "\n",
    "#Removes duplicates\n",
    "final_df = final_df.drop_duplicates(subset = [\"ICD9_GROUPS\",\"TEXT\"])\n",
    "\n",
    "#Puts the cateogrised ICD9 codes into a list by grouping by the text \n",
    "final_df = final_df.groupby(\"TEXT\")[\"ICD9_GROUPS\"].apply(list).reset_index()\n",
    "\n",
    "print(final_df.shape)\n",
    "final_df.head(25)\n"
   ]
  }
 ],
 "metadata": {
  "interpreter": {
   "hash": "0a9bca17f74e22ed0ed6dbfee78bd093b6aa78ce4ea51393b9379430e41c2b0f"
  },
  "kernelspec": {
   "display_name": "Python 3.9.9 64-bit",
   "language": "python",
   "name": "python3"
  },
  "language_info": {
   "codemirror_mode": {
    "name": "ipython",
    "version": 3
   },
   "file_extension": ".py",
   "mimetype": "text/x-python",
   "name": "python",
   "nbconvert_exporter": "python",
   "pygments_lexer": "ipython3",
   "version": "3.9.9"
  },
  "orig_nbformat": 4
 },
 "nbformat": 4,
 "nbformat_minor": 2
}
